{
 "cells": [
  {
   "cell_type": "code",
   "execution_count": 1,
   "metadata": {},
   "outputs": [],
   "source": [
    "#Loading dataset\n",
    "housing <- read.csv(file = 'C:\\\\Users\\\\harsh\\\\Downloads\\\\Boston.csv',header=TRUE)"
   ]
  },
  {
   "cell_type": "code",
   "execution_count": 2,
   "metadata": {},
   "outputs": [
    {
     "name": "stderr",
     "output_type": "stream",
     "text": [
      "corrplot 0.84 loaded\n",
      "Registered S3 methods overwritten by 'ggplot2':\n",
      "  method         from \n",
      "  [.quosures     rlang\n",
      "  c.quosures     rlang\n",
      "  print.quosures rlang\n",
      "\n",
      "Attaching package: 'dplyr'\n",
      "\n",
      "The following objects are masked from 'package:stats':\n",
      "\n",
      "    filter, lag\n",
      "\n",
      "The following objects are masked from 'package:base':\n",
      "\n",
      "    intersect, setdiff, setequal, union\n",
      "\n",
      "\n",
      "Attaching package: 'plotly'\n",
      "\n",
      "The following object is masked from 'package:ggplot2':\n",
      "\n",
      "    last_plot\n",
      "\n",
      "The following object is masked from 'package:stats':\n",
      "\n",
      "    filter\n",
      "\n",
      "The following object is masked from 'package:graphics':\n",
      "\n",
      "    layout\n",
      "\n"
     ]
    }
   ],
   "source": [
    "#Libraries required\n",
    "library(corrplot) #for visualisation of correlation\n",
    "library(lattice) #for visualisation\n",
    "library(ggplot2) #for visualisation\n",
    "library(caTools) #for splittind data into testing and training data\n",
    "library(dplyr) #manipulating dataframe\n",
    "library(plotly) #converting ggplot to plotly\n"
   ]
  },
  {
   "cell_type": "code",
   "execution_count": 3,
   "metadata": {},
   "outputs": [
    {
     "data": {
      "text/html": [
       "<table>\n",
       "<thead><tr><th scope=col>X</th><th scope=col>crim</th><th scope=col>zn</th><th scope=col>indus</th><th scope=col>chas</th><th scope=col>nox</th><th scope=col>rm</th><th scope=col>age</th><th scope=col>dis</th><th scope=col>rad</th><th scope=col>tax</th><th scope=col>ptratio</th><th scope=col>black</th><th scope=col>lstat</th><th scope=col>medv</th></tr></thead>\n",
       "<tbody>\n",
       "\t<tr><td>1      </td><td>0.00632</td><td>18     </td><td>2.31   </td><td>0      </td><td>0.538  </td><td>6.575  </td><td>65.2   </td><td>4.0900 </td><td>1      </td><td>296    </td><td>15.3   </td><td>396.90 </td><td>4.98   </td><td>24.0   </td></tr>\n",
       "\t<tr><td>2      </td><td>0.02731</td><td> 0     </td><td>7.07   </td><td>0      </td><td>0.469  </td><td>6.421  </td><td>78.9   </td><td>4.9671 </td><td>2      </td><td>242    </td><td>17.8   </td><td>396.90 </td><td>9.14   </td><td>21.6   </td></tr>\n",
       "\t<tr><td>3      </td><td>0.02729</td><td> 0     </td><td>7.07   </td><td>0      </td><td>0.469  </td><td>7.185  </td><td>61.1   </td><td>4.9671 </td><td>2      </td><td>242    </td><td>17.8   </td><td>392.83 </td><td>4.03   </td><td>34.7   </td></tr>\n",
       "\t<tr><td>4      </td><td>0.03237</td><td> 0     </td><td>2.18   </td><td>0      </td><td>0.458  </td><td>6.998  </td><td>45.8   </td><td>6.0622 </td><td>3      </td><td>222    </td><td>18.7   </td><td>394.63 </td><td>2.94   </td><td>33.4   </td></tr>\n",
       "\t<tr><td>5      </td><td>0.06905</td><td> 0     </td><td>2.18   </td><td>0      </td><td>0.458  </td><td>7.147  </td><td>54.2   </td><td>6.0622 </td><td>3      </td><td>222    </td><td>18.7   </td><td>396.90 </td><td>5.33   </td><td>36.2   </td></tr>\n",
       "\t<tr><td>6      </td><td>0.02985</td><td> 0     </td><td>2.18   </td><td>0      </td><td>0.458  </td><td>6.430  </td><td>58.7   </td><td>6.0622 </td><td>3      </td><td>222    </td><td>18.7   </td><td>394.12 </td><td>5.21   </td><td>28.7   </td></tr>\n",
       "</tbody>\n",
       "</table>\n"
      ],
      "text/latex": [
       "\\begin{tabular}{r|lllllllllllllll}\n",
       " X & crim & zn & indus & chas & nox & rm & age & dis & rad & tax & ptratio & black & lstat & medv\\\\\n",
       "\\hline\n",
       "\t 1       & 0.00632 & 18      & 2.31    & 0       & 0.538   & 6.575   & 65.2    & 4.0900  & 1       & 296     & 15.3    & 396.90  & 4.98    & 24.0   \\\\\n",
       "\t 2       & 0.02731 &  0      & 7.07    & 0       & 0.469   & 6.421   & 78.9    & 4.9671  & 2       & 242     & 17.8    & 396.90  & 9.14    & 21.6   \\\\\n",
       "\t 3       & 0.02729 &  0      & 7.07    & 0       & 0.469   & 7.185   & 61.1    & 4.9671  & 2       & 242     & 17.8    & 392.83  & 4.03    & 34.7   \\\\\n",
       "\t 4       & 0.03237 &  0      & 2.18    & 0       & 0.458   & 6.998   & 45.8    & 6.0622  & 3       & 222     & 18.7    & 394.63  & 2.94    & 33.4   \\\\\n",
       "\t 5       & 0.06905 &  0      & 2.18    & 0       & 0.458   & 7.147   & 54.2    & 6.0622  & 3       & 222     & 18.7    & 396.90  & 5.33    & 36.2   \\\\\n",
       "\t 6       & 0.02985 &  0      & 2.18    & 0       & 0.458   & 6.430   & 58.7    & 6.0622  & 3       & 222     & 18.7    & 394.12  & 5.21    & 28.7   \\\\\n",
       "\\end{tabular}\n"
      ],
      "text/markdown": [
       "\n",
       "| X | crim | zn | indus | chas | nox | rm | age | dis | rad | tax | ptratio | black | lstat | medv |\n",
       "|---|---|---|---|---|---|---|---|---|---|---|---|---|---|---|\n",
       "| 1       | 0.00632 | 18      | 2.31    | 0       | 0.538   | 6.575   | 65.2    | 4.0900  | 1       | 296     | 15.3    | 396.90  | 4.98    | 24.0    |\n",
       "| 2       | 0.02731 |  0      | 7.07    | 0       | 0.469   | 6.421   | 78.9    | 4.9671  | 2       | 242     | 17.8    | 396.90  | 9.14    | 21.6    |\n",
       "| 3       | 0.02729 |  0      | 7.07    | 0       | 0.469   | 7.185   | 61.1    | 4.9671  | 2       | 242     | 17.8    | 392.83  | 4.03    | 34.7    |\n",
       "| 4       | 0.03237 |  0      | 2.18    | 0       | 0.458   | 6.998   | 45.8    | 6.0622  | 3       | 222     | 18.7    | 394.63  | 2.94    | 33.4    |\n",
       "| 5       | 0.06905 |  0      | 2.18    | 0       | 0.458   | 7.147   | 54.2    | 6.0622  | 3       | 222     | 18.7    | 396.90  | 5.33    | 36.2    |\n",
       "| 6       | 0.02985 |  0      | 2.18    | 0       | 0.458   | 6.430   | 58.7    | 6.0622  | 3       | 222     | 18.7    | 394.12  | 5.21    | 28.7    |\n",
       "\n"
      ],
      "text/plain": [
       "  X crim    zn indus chas nox   rm    age  dis    rad tax ptratio black  lstat\n",
       "1 1 0.00632 18 2.31  0    0.538 6.575 65.2 4.0900 1   296 15.3    396.90 4.98 \n",
       "2 2 0.02731  0 7.07  0    0.469 6.421 78.9 4.9671 2   242 17.8    396.90 9.14 \n",
       "3 3 0.02729  0 7.07  0    0.469 7.185 61.1 4.9671 2   242 17.8    392.83 4.03 \n",
       "4 4 0.03237  0 2.18  0    0.458 6.998 45.8 6.0622 3   222 18.7    394.63 2.94 \n",
       "5 5 0.06905  0 2.18  0    0.458 7.147 54.2 6.0622 3   222 18.7    396.90 5.33 \n",
       "6 6 0.02985  0 2.18  0    0.458 6.430 58.7 6.0622 3   222 18.7    394.12 5.21 \n",
       "  medv\n",
       "1 24.0\n",
       "2 21.6\n",
       "3 34.7\n",
       "4 33.4\n",
       "5 36.2\n",
       "6 28.7"
      ]
     },
     "metadata": {},
     "output_type": "display_data"
    },
    {
     "data": {
      "text/plain": [
       "       X              crim                zn             indus      \n",
       " Min.   :  1.0   Min.   : 0.00632   Min.   :  0.00   Min.   : 0.46  \n",
       " 1st Qu.:127.2   1st Qu.: 0.08204   1st Qu.:  0.00   1st Qu.: 5.19  \n",
       " Median :253.5   Median : 0.25651   Median :  0.00   Median : 9.69  \n",
       " Mean   :253.5   Mean   : 3.61352   Mean   : 11.36   Mean   :11.14  \n",
       " 3rd Qu.:379.8   3rd Qu.: 3.67708   3rd Qu.: 12.50   3rd Qu.:18.10  \n",
       " Max.   :506.0   Max.   :88.97620   Max.   :100.00   Max.   :27.74  \n",
       "      chas              nox               rm             age        \n",
       " Min.   :0.00000   Min.   :0.3850   Min.   :3.561   Min.   :  2.90  \n",
       " 1st Qu.:0.00000   1st Qu.:0.4490   1st Qu.:5.886   1st Qu.: 45.02  \n",
       " Median :0.00000   Median :0.5380   Median :6.208   Median : 77.50  \n",
       " Mean   :0.06917   Mean   :0.5547   Mean   :6.285   Mean   : 68.57  \n",
       " 3rd Qu.:0.00000   3rd Qu.:0.6240   3rd Qu.:6.623   3rd Qu.: 94.08  \n",
       " Max.   :1.00000   Max.   :0.8710   Max.   :8.780   Max.   :100.00  \n",
       "      dis              rad              tax           ptratio     \n",
       " Min.   : 1.130   Min.   : 1.000   Min.   :187.0   Min.   :12.60  \n",
       " 1st Qu.: 2.100   1st Qu.: 4.000   1st Qu.:279.0   1st Qu.:17.40  \n",
       " Median : 3.207   Median : 5.000   Median :330.0   Median :19.05  \n",
       " Mean   : 3.795   Mean   : 9.549   Mean   :408.2   Mean   :18.46  \n",
       " 3rd Qu.: 5.188   3rd Qu.:24.000   3rd Qu.:666.0   3rd Qu.:20.20  \n",
       " Max.   :12.127   Max.   :24.000   Max.   :711.0   Max.   :22.00  \n",
       "     black            lstat            medv      \n",
       " Min.   :  0.32   Min.   : 1.73   Min.   : 5.00  \n",
       " 1st Qu.:375.38   1st Qu.: 6.95   1st Qu.:17.02  \n",
       " Median :391.44   Median :11.36   Median :21.20  \n",
       " Mean   :356.67   Mean   :12.65   Mean   :22.53  \n",
       " 3rd Qu.:396.23   3rd Qu.:16.95   3rd Qu.:25.00  \n",
       " Max.   :396.90   Max.   :37.97   Max.   :50.00  "
      ]
     },
     "metadata": {},
     "output_type": "display_data"
    }
   ],
   "source": [
    "#A command called head gives you the top 6 rows of the dataset\n",
    "head(housing)\n",
    "\n",
    "#A command called summary gives you the basic statistics of your dataset like mean, median, 1st quartile, 2nd quartile etc.\n",
    "summary(housing)"
   ]
  },
  {
   "cell_type": "code",
   "execution_count": 35,
   "metadata": {},
   "outputs": [],
   "source": [
    "set.seed(123)\n",
    "split <- sample.split(housing,SplitRatio = 0.75) #assigns booleans to a new coloumn based on the split ratio\n",
    "train1 <- subset(housing,split==TRUE)\n",
    "test1 <- subset(housing,split==FALSE)"
   ]
  },
  {
   "cell_type": "code",
   "execution_count": 7,
   "metadata": {},
   "outputs": [
    {
     "name": "stdout",
     "output_type": "stream",
     "text": [
      "'data.frame':\t370 obs. of  15 variables:\n",
      " $ X      : int  1 2 3 6 7 9 10 12 13 14 ...\n",
      " $ crim   : num  0.00632 0.02731 0.02729 0.02985 0.08829 ...\n",
      " $ zn     : num  18 0 0 0 12.5 12.5 12.5 12.5 12.5 0 ...\n",
      " $ indus  : num  2.31 7.07 7.07 2.18 7.87 7.87 7.87 7.87 7.87 8.14 ...\n",
      " $ chas   : int  0 0 0 0 0 0 0 0 0 0 ...\n",
      " $ nox    : num  0.538 0.469 0.469 0.458 0.524 0.524 0.524 0.524 0.524 0.538 ...\n",
      " $ rm     : num  6.58 6.42 7.18 6.43 6.01 ...\n",
      " $ age    : num  65.2 78.9 61.1 58.7 66.6 100 85.9 82.9 39 61.8 ...\n",
      " $ dis    : num  4.09 4.97 4.97 6.06 5.56 ...\n",
      " $ rad    : int  1 2 2 3 5 5 5 5 5 4 ...\n",
      " $ tax    : int  296 242 242 222 311 311 311 311 311 307 ...\n",
      " $ ptratio: num  15.3 17.8 17.8 18.7 15.2 15.2 15.2 15.2 15.2 21 ...\n",
      " $ black  : num  397 397 393 394 396 ...\n",
      " $ lstat  : num  4.98 9.14 4.03 5.21 12.43 ...\n",
      " $ medv   : num  24 21.6 34.7 28.7 22.9 16.5 18.9 18.9 21.7 20.4 ...\n"
     ]
    }
   ],
   "source": [
    "str(train)"
   ]
  },
  {
   "cell_type": "code",
   "execution_count": 9,
   "metadata": {},
   "outputs": [
    {
     "name": "stdout",
     "output_type": "stream",
     "text": [
      "[1] \"Column  X  has  0  missing values\"\n",
      "[1] \"Column  crim  has  0  missing values\"\n",
      "[1] \"Column  zn  has  0  missing values\"\n",
      "[1] \"Column  indus  has  0  missing values\"\n",
      "[1] \"Column  chas  has  0  missing values\"\n",
      "[1] \"Column  nox  has  0  missing values\"\n",
      "[1] \"Column  rm  has  0  missing values\"\n",
      "[1] \"Column  age  has  0  missing values\"\n",
      "[1] \"Column  dis  has  0  missing values\"\n",
      "[1] \"Column  rad  has  0  missing values\"\n",
      "[1] \"Column  tax  has  0  missing values\"\n",
      "[1] \"Column  ptratio  has  0  missing values\"\n",
      "[1] \"Column  black  has  0  missing values\"\n",
      "[1] \"Column  lstat  has  0  missing values\"\n",
      "[1] \"Column  medv  has  0  missing values\"\n"
     ]
    }
   ],
   "source": [
    "# Check missing values . Identify the columns which have missing values \n",
    "mvc = 0\n",
    "for (i in 1:ncol(train))\n",
    "{\n",
    "  m = sum(is.na(train[,i]))\n",
    "  print(paste(\"Column \",colnames(train[i]),\" has \",m,\" missing values\"))\n",
    "  if(m>0){\n",
    "    mvc = mvc+1\n",
    "  }\n",
    "  else{\n",
    "    mvc\n",
    "    }\n",
    "}  "
   ]
  },
  {
   "cell_type": "code",
   "execution_count": 10,
   "metadata": {},
   "outputs": [
    {
     "name": "stderr",
     "output_type": "stream",
     "text": [
      "randomForest 4.6-14\n",
      "Type rfNews() to see new features/changes/bug fixes.\n",
      "\n",
      "Attaching package: 'randomForest'\n",
      "\n",
      "The following object is masked from 'package:dplyr':\n",
      "\n",
      "    combine\n",
      "\n",
      "The following object is masked from 'package:ggplot2':\n",
      "\n",
      "    margin\n",
      "\n"
     ]
    }
   ],
   "source": [
    "library(randomForest)"
   ]
  },
  {
   "cell_type": "code",
   "execution_count": 11,
   "metadata": {},
   "outputs": [],
   "source": [
    "set.seed(1000)\n",
    "output.forest <- randomForest(medv ~ . ,\n",
    "                              data = train, importance = T)"
   ]
  },
  {
   "cell_type": "code",
   "execution_count": 12,
   "metadata": {},
   "outputs": [
    {
     "name": "stdout",
     "output_type": "stream",
     "text": [
      "\n",
      "Call:\n",
      " randomForest(formula = medv ~ ., data = train, importance = T) \n",
      "               Type of random forest: regression\n",
      "                     Number of trees: 500\n",
      "No. of variables tried at each split: 4\n",
      "\n",
      "          Mean of squared residuals: 10.47939\n",
      "                    % Var explained: 87.82\n"
     ]
    },
    {
     "data": {
      "text/html": [
       "<table>\n",
       "<thead><tr><th></th><th scope=col>%IncMSE</th><th scope=col>IncNodePurity</th></tr></thead>\n",
       "<tbody>\n",
       "\t<tr><th scope=row>X</th><td> 9.624159</td><td>2128.4932</td></tr>\n",
       "\t<tr><th scope=row>crim</th><td>13.545328</td><td>1950.2786</td></tr>\n",
       "\t<tr><th scope=row>zn</th><td> 3.374937</td><td> 213.1361</td></tr>\n",
       "\t<tr><th scope=row>indus</th><td> 9.373384</td><td>1811.2986</td></tr>\n",
       "\t<tr><th scope=row>chas</th><td> 3.799790</td><td> 139.1416</td></tr>\n",
       "\t<tr><th scope=row>nox</th><td>12.678489</td><td>1695.5831</td></tr>\n",
       "\t<tr><th scope=row>rm</th><td>31.553003</td><td>8426.3395</td></tr>\n",
       "\t<tr><th scope=row>age</th><td>13.218330</td><td> 909.0967</td></tr>\n",
       "\t<tr><th scope=row>dis</th><td>17.841471</td><td>2066.3361</td></tr>\n",
       "\t<tr><th scope=row>rad</th><td> 4.784698</td><td> 192.7407</td></tr>\n",
       "\t<tr><th scope=row>tax</th><td>11.043782</td><td> 975.6569</td></tr>\n",
       "\t<tr><th scope=row>ptratio</th><td>10.671643</td><td>1648.3880</td></tr>\n",
       "\t<tr><th scope=row>black</th><td> 7.271953</td><td> 534.4053</td></tr>\n",
       "\t<tr><th scope=row>lstat</th><td>26.048462</td><td>8457.2431</td></tr>\n",
       "</tbody>\n",
       "</table>\n"
      ],
      "text/latex": [
       "\\begin{tabular}{r|ll}\n",
       "  & \\%IncMSE & IncNodePurity\\\\\n",
       "\\hline\n",
       "\tX &  9.624159 & 2128.4932\\\\\n",
       "\tcrim & 13.545328 & 1950.2786\\\\\n",
       "\tzn &  3.374937 &  213.1361\\\\\n",
       "\tindus &  9.373384 & 1811.2986\\\\\n",
       "\tchas &  3.799790 &  139.1416\\\\\n",
       "\tnox & 12.678489 & 1695.5831\\\\\n",
       "\trm & 31.553003 & 8426.3395\\\\\n",
       "\tage & 13.218330 &  909.0967\\\\\n",
       "\tdis & 17.841471 & 2066.3361\\\\\n",
       "\trad &  4.784698 &  192.7407\\\\\n",
       "\ttax & 11.043782 &  975.6569\\\\\n",
       "\tptratio & 10.671643 & 1648.3880\\\\\n",
       "\tblack &  7.271953 &  534.4053\\\\\n",
       "\tlstat & 26.048462 & 8457.2431\\\\\n",
       "\\end{tabular}\n"
      ],
      "text/markdown": [
       "\n",
       "| <!--/--> | %IncMSE | IncNodePurity |\n",
       "|---|---|---|\n",
       "| X |  9.624159 | 2128.4932 |\n",
       "| crim | 13.545328 | 1950.2786 |\n",
       "| zn |  3.374937 |  213.1361 |\n",
       "| indus |  9.373384 | 1811.2986 |\n",
       "| chas |  3.799790 |  139.1416 |\n",
       "| nox | 12.678489 | 1695.5831 |\n",
       "| rm | 31.553003 | 8426.3395 |\n",
       "| age | 13.218330 |  909.0967 |\n",
       "| dis | 17.841471 | 2066.3361 |\n",
       "| rad |  4.784698 |  192.7407 |\n",
       "| tax | 11.043782 |  975.6569 |\n",
       "| ptratio | 10.671643 | 1648.3880 |\n",
       "| black |  7.271953 |  534.4053 |\n",
       "| lstat | 26.048462 | 8457.2431 |\n",
       "\n"
      ],
      "text/plain": [
       "        %IncMSE   IncNodePurity\n",
       "X        9.624159 2128.4932    \n",
       "crim    13.545328 1950.2786    \n",
       "zn       3.374937  213.1361    \n",
       "indus    9.373384 1811.2986    \n",
       "chas     3.799790  139.1416    \n",
       "nox     12.678489 1695.5831    \n",
       "rm      31.553003 8426.3395    \n",
       "age     13.218330  909.0967    \n",
       "dis     17.841471 2066.3361    \n",
       "rad      4.784698  192.7407    \n",
       "tax     11.043782  975.6569    \n",
       "ptratio 10.671643 1648.3880    \n",
       "black    7.271953  534.4053    \n",
       "lstat   26.048462 8457.2431    "
      ]
     },
     "metadata": {},
     "output_type": "display_data"
    }
   ],
   "source": [
    "print(output.forest)\n",
    "importance(output.forest)"
   ]
  },
  {
   "cell_type": "code",
   "execution_count": 13,
   "metadata": {},
   "outputs": [],
   "source": [
    "fitForest1 <-predict(output.forest, newdata = test)"
   ]
  },
  {
   "cell_type": "code",
   "execution_count": 14,
   "metadata": {},
   "outputs": [],
   "source": [
    "importance    <- importance(output.forest)\n",
    "varImportance <- data.frame(Variables = row.names(importance), \n",
    "                            Importance = round(importance[ ,'%IncMSE'],2))"
   ]
  },
  {
   "cell_type": "code",
   "execution_count": 15,
   "metadata": {},
   "outputs": [],
   "source": [
    "# Create a rank variable based on importance\n",
    "rankImportance <- varImportance %>% mutate(Rank = paste0('#',dense_rank(desc(Importance))))"
   ]
  },
  {
   "cell_type": "code",
   "execution_count": 17,
   "metadata": {},
   "outputs": [
    {
     "name": "stdout",
     "output_type": "stream",
     "text": [
      "[1] \"Plot of variable importance\"\n",
      "[1] \"Variable importance of initial model\"\n"
     ]
    },
    {
     "data": {
      "image/png": "[encoded data removed]",
      "text/plain": [
       "plot without title"
      ]
     },
     "metadata": {},
     "output_type": "display_data"
    }
   ],
   "source": [
    "# Use ggplot2 to visualize the relative importance of variables\n",
    "print(\"Plot of variable importance\")\n",
    "print(\"Variable importance of initial model\")\n",
    "ggplot(rankImportance, aes(x = reorder(Variables, Importance), \n",
    "                           y = Importance, fill = Importance)) +\n",
    "  geom_bar(stat='identity') + \n",
    "  geom_text(aes(x = Variables, y = 0.5, label = Rank),\n",
    "            hjust=0, vjust=0.55, size = 4, colour = 'red') +\n",
    "  labs(x = 'Variables') +\n",
    "  coord_flip()"
   ]
  },
  {
   "cell_type": "code",
   "execution_count": 19,
   "metadata": {},
   "outputs": [
    {
     "data": {
      "text/html": [
       "22.4889189189189"
      ],
      "text/latex": [
       "22.4889189189189"
      ],
      "text/markdown": [
       "22.4889189189189"
      ],
      "text/plain": [
       "[1] 22.48892"
      ]
     },
     "metadata": {},
     "output_type": "display_data"
    },
    {
     "name": "stdout",
     "output_type": "stream",
     "text": [
      "[1] \"Inital prediction\"\n"
     ]
    },
    {
     "data": {
      "image/png": "[encoded data removed]",
      "text/plain": [
       "plot without title"
      ]
     },
     "metadata": {},
     "output_type": "display_data"
    }
   ],
   "source": [
    "first_SSE <- mean((fitForest1-test$SalePrice)^2)\n",
    "mean(train$medv)\n",
    "print(\"Inital prediction\")\n",
    "plot(fitForest1,test$medv,\n",
    "     xlab=\"predicted\",ylab=\"actual\", xaxt=\"n\")\n",
    "abline(a=0,b=1)"
   ]
  },
  {
   "cell_type": "code",
   "execution_count": 21,
   "metadata": {},
   "outputs": [
    {
     "data": {
      "image/png": "[encoded data removed]",
      "text/plain": [
       "plot without title"
      ]
     },
     "metadata": {},
     "output_type": "display_data"
    }
   ],
   "source": [
    "# Improving the model and feature engineering\n",
    "# From importance plot it seems rm is the most important variable\n",
    "# Lets plot its relation with sale price\n",
    "ggplot(train, aes(x = rm, y = medv)) +\n",
    "  geom_bar(stat='identity', position='dodge', fill='red') +\n",
    "  labs(x = 'rm') \n",
    "  \n",
    "\n"
   ]
  },
  {
   "cell_type": "code",
   "execution_count": 22,
   "metadata": {},
   "outputs": [],
   "source": [
    "library(rpart)"
   ]
  },
  {
   "cell_type": "code",
   "execution_count": 24,
   "metadata": {},
   "outputs": [
    {
     "data": {
      "text/html": [
       "<ol class=list-inline>\n",
       "\t<li>'X'</li>\n",
       "\t<li>'crim'</li>\n",
       "\t<li>'zn'</li>\n",
       "\t<li>'indus'</li>\n",
       "\t<li>'chas'</li>\n",
       "\t<li>'nox'</li>\n",
       "\t<li>'rm'</li>\n",
       "\t<li>'age'</li>\n",
       "\t<li>'dis'</li>\n",
       "\t<li>'rad'</li>\n",
       "\t<li>'tax'</li>\n",
       "\t<li>'ptratio'</li>\n",
       "\t<li>'black'</li>\n",
       "\t<li>'lstat'</li>\n",
       "\t<li>'medv'</li>\n",
       "</ol>\n"
      ],
      "text/latex": [
       "\\begin{enumerate*}\n",
       "\\item 'X'\n",
       "\\item 'crim'\n",
       "\\item 'zn'\n",
       "\\item 'indus'\n",
       "\\item 'chas'\n",
       "\\item 'nox'\n",
       "\\item 'rm'\n",
       "\\item 'age'\n",
       "\\item 'dis'\n",
       "\\item 'rad'\n",
       "\\item 'tax'\n",
       "\\item 'ptratio'\n",
       "\\item 'black'\n",
       "\\item 'lstat'\n",
       "\\item 'medv'\n",
       "\\end{enumerate*}\n"
      ],
      "text/markdown": [
       "1. 'X'\n",
       "2. 'crim'\n",
       "3. 'zn'\n",
       "4. 'indus'\n",
       "5. 'chas'\n",
       "6. 'nox'\n",
       "7. 'rm'\n",
       "8. 'age'\n",
       "9. 'dis'\n",
       "10. 'rad'\n",
       "11. 'tax'\n",
       "12. 'ptratio'\n",
       "13. 'black'\n",
       "14. 'lstat'\n",
       "15. 'medv'\n",
       "\n",
       "\n"
      ],
      "text/plain": [
       " [1] \"X\"       \"crim\"    \"zn\"      \"indus\"   \"chas\"    \"nox\"     \"rm\"     \n",
       " [8] \"age\"     \"dis\"     \"rad\"     \"tax\"     \"ptratio\" \"black\"   \"lstat\"  \n",
       "[15] \"medv\"   "
      ]
     },
     "metadata": {},
     "output_type": "display_data"
    }
   ],
   "source": [
    "names(housing)"
   ]
  },
  {
   "cell_type": "code",
   "execution_count": 25,
   "metadata": {},
   "outputs": [],
   "source": [
    "dropList <- c('chas','rad','crim','zn','black')\n",
    "#We drop chas and rad because they are non numeric\n",
    "#We drop crim, zn and black because they have lot of outliers\n",
    "housingplot <- housing[,!colnames(housing) %in% dropList]"
   ]
  },
  {
   "cell_type": "code",
   "execution_count": 26,
   "metadata": {},
   "outputs": [],
   "source": [
    "#Assigning a variable named *fit* to the model\n",
    "fit <- rpart( medv ~ indus + nox + rm + age + dis + ptratio + lstat,data = housing)  "
   ]
  },
  {
   "cell_type": "code",
   "execution_count": 27,
   "metadata": {},
   "outputs": [
    {
     "data": {
      "image/png": "[encoded data removed]",
      "text/plain": [
       "plot without title"
      ]
     },
     "metadata": {},
     "output_type": "display_data"
    }
   ],
   "source": [
    "#Drawing a decision tree and labelling the values to it\n",
    "plot(fit,uniform=TRUE)\n",
    "text(fit,cex=0.6)"
   ]
  },
  {
   "cell_type": "code",
   "execution_count": 30,
   "metadata": {},
   "outputs": [
    {
     "data": {
      "text/html": [
       "<dl class=dl-horizontal>\n",
       "\t<dt>1</dt>\n",
       "\t\t<dd>27.4272727272727</dd>\n",
       "\t<dt>2</dt>\n",
       "\t\t<dd>21.6564766839378</dd>\n",
       "\t<dt>3</dt>\n",
       "\t\t<dd>33.7384615384615</dd>\n",
       "\t<dt>4</dt>\n",
       "\t\t<dd>33.7384615384615</dd>\n",
       "\t<dt>5</dt>\n",
       "\t\t<dd>33.7384615384615</dd>\n",
       "\t<dt>6</dt>\n",
       "\t\t<dd>21.6564766839378</dd>\n",
       "</dl>\n"
      ],
      "text/latex": [
       "\\begin{description*}\n",
       "\\item[1] 27.4272727272727\n",
       "\\item[2] 21.6564766839378\n",
       "\\item[3] 33.7384615384615\n",
       "\\item[4] 33.7384615384615\n",
       "\\item[5] 33.7384615384615\n",
       "\\item[6] 21.6564766839378\n",
       "\\end{description*}\n"
      ],
      "text/markdown": [
       "1\n",
       ":   27.42727272727272\n",
       ":   21.65647668393783\n",
       ":   33.73846153846154\n",
       ":   33.73846153846155\n",
       ":   33.73846153846156\n",
       ":   21.6564766839378\n",
       "\n"
      ],
      "text/plain": [
       "       1        2        3        4        5        6 \n",
       "27.42727 21.65648 33.73846 33.73846 33.73846 21.65648 "
      ]
     },
     "metadata": {},
     "output_type": "display_data"
    },
    {
     "name": "stdout",
     "output_type": "stream",
     "text": [
      "[1] 24.0 21.6 34.7 33.4 36.2 28.7\n"
     ]
    }
   ],
   "source": [
    "#Predicting the price of the house of first 6 data\n",
    "predict(fit,head(housing))\n",
    "print(head(housing$medv))"
   ]
  },
  {
   "cell_type": "code",
   "execution_count": 31,
   "metadata": {},
   "outputs": [],
   "source": [
    "#Using *modelr* package to calculate the Mean Absolure Error\n",
    "library(modelr)"
   ]
  },
  {
   "cell_type": "code",
   "execution_count": 32,
   "metadata": {},
   "outputs": [
    {
     "data": {
      "text/html": [
       "2.790043130209"
      ],
      "text/latex": [
       "2.790043130209"
      ],
      "text/markdown": [
       "2.790043130209"
      ],
      "text/plain": [
       "[1] 2.790043"
      ]
     },
     "metadata": {},
     "output_type": "display_data"
    }
   ],
   "source": [
    "#Calulating the mean absoulte error,which is predicted price - actual value\n",
    "mae(model=fit,data=housing)"
   ]
  },
  {
   "cell_type": "code",
   "execution_count": 33,
   "metadata": {},
   "outputs": [
    {
     "data": {
      "text/html": [
       "<table>\n",
       "<thead><tr><th scope=col>test</th><th scope=col>train</th></tr></thead>\n",
       "<tbody>\n",
       "\t<tr><td>151</td><td>355</td></tr>\n",
       "\t<tr><td> 15</td><td> 15</td></tr>\n",
       "</tbody>\n",
       "</table>\n"
      ],
      "text/latex": [
       "\\begin{tabular}{ll}\n",
       " test & train\\\\\n",
       "\\hline\n",
       "\t 151 & 355\\\\\n",
       "\t  15 &  15\\\\\n",
       "\\end{tabular}\n"
      ],
      "text/markdown": [
       "\n",
       "| test | train |\n",
       "|---|---|\n",
       "| 151 | 355 |\n",
       "|  15 |  15 |\n",
       "\n"
      ],
      "text/plain": [
       "     test train\n",
       "[1,] 151  355  \n",
       "[2,]  15   15  "
      ]
     },
     "metadata": {},
     "output_type": "display_data"
    }
   ],
   "source": [
    "#splitting the data into two set \n",
    "#Test data amd Train data\n",
    "splitData <- resample_partition(housing,c(test=0.3,train=0.7))\n",
    "\n",
    "#Checking the dimensions of the test and train data\n",
    "sapply(splitData,dim)"
   ]
  },
  {
   "cell_type": "code",
   "execution_count": 37,
   "metadata": {},
   "outputs": [
    {
     "data": {
      "text/html": [
       "3.33524483324627"
      ],
      "text/latex": [
       "3.33524483324627"
      ],
      "text/markdown": [
       "3.33524483324627"
      ],
      "text/plain": [
       "[1] 3.335245"
      ]
     },
     "metadata": {},
     "output_type": "display_data"
    }
   ],
   "source": [
    "#Predicting the price of the house in the train data\n",
    "fit2 <- rpart( medv ~ indus + nox + rm + age + dis + ptratio + lstat, data = splitData$train)\n",
    "#Caluclating the MAE\n",
    "mae(model=fit2,data = splitData$test)"
   ]
  },
  {
   "cell_type": "code",
   "execution_count": 38,
   "metadata": {},
   "outputs": [
    {
     "data": {
      "text/html": [
       "2.53533380213344"
      ],
      "text/latex": [
       "2.53533380213344"
      ],
      "text/markdown": [
       "2.53533380213344"
      ],
      "text/plain": [
       "[1] 2.535334"
      ]
     },
     "metadata": {},
     "output_type": "display_data"
    }
   ],
   "source": [
    "#Fitting a Random Forest Algorithm and assigning to a variable *fit3*\n",
    "fit3 <- randomForest(medv ~ indus + nox + rm + age + dis + ptratio + lstat ,data = splitData$train,na.action = na.exclude)\n",
    "\n",
    "#Calculating the MAE after fitting a model using Random Forest aloorithm\n",
    "mae(model=fit3,data = splitData$test)"
   ]
  },
  {
   "cell_type": "code",
   "execution_count": null,
   "metadata": {},
   "outputs": [],
   "source": []
  }
 ],
 "metadata": {
  "kernelspec": {
   "display_name": "R",
   "language": "R",
   "name": "ir"
  },
  "language_info": {
   "codemirror_mode": "r",
   "file_extension": ".r",
   "mimetype": "text/x-r-source",
   "name": "R",
   "pygments_lexer": "r",
   "version": "3.6.1"
  }
 },
 "nbformat": 4,
 "nbformat_minor": 4
}
